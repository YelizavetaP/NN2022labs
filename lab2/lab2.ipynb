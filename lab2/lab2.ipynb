{
  "nbformat": 4,
  "nbformat_minor": 0,
  "metadata": {
    "colab": {
      "name": "lab2.ipynb",
      "provenance": [],
      "authorship_tag": "ABX9TyO2bhhVskeBykEUsaFE8Tu/",
      "include_colab_link": true
    },
    "kernelspec": {
      "name": "python3",
      "display_name": "Python 3"
    },
    "language_info": {
      "name": "python"
    }
  },
  "cells": [
    {
      "cell_type": "markdown",
      "metadata": {
        "id": "view-in-github",
        "colab_type": "text"
      },
      "source": [
        "<a href=\"https://colab.research.google.com/github/YelizavetaP/NN2022labs/blob/main/lab2/lab2.ipynb\" target=\"_parent\"><img src=\"https://colab.research.google.com/assets/colab-badge.svg\" alt=\"Open In Colab\"/></a>"
      ]
    },
    {
      "cell_type": "markdown",
      "source": [
        "#Лабораторна робота 2\n",
        "з дисципліни \"Нейронні мережі\" <br>\n",
        "студентки 3 курсу КН ФІТ<br>\n",
        "Поповаї Єлизавети"
      ],
      "metadata": {
        "id": "PujzoQ0-Pa4c"
      }
    },
    {
      "cell_type": "markdown",
      "source": [
        "#За матеріалами [2] ознайомитись із засадами бібліотеки TensorFlow:\n",
        "- засвоєння поняття тензору\n",
        "- знати різні способи створення тензорів\n",
        "- створити набір даних із заданим розподілом (розподіл та розмір за власним рішенням), визначити його властивості (shape, rank, size, axis)\n",
        "- продемонструвати основні математичні операції над тензорами\n",
        "- провести CRUD операції над даними, reshape, інтеграцію з np.array, pd.DataFrame)\n"
      ],
      "metadata": {
        "id": "xD6OW2nd6_je"
      }
    },
    {
      "cell_type": "code",
      "execution_count": null,
      "metadata": {
        "id": "0oEbtC9C6vA_"
      },
      "outputs": [],
      "source": [
        "import tensorflow as tf\n",
        "print(tf.__version__)\n",
        "\n",
        "scalar = tf.constant(7)\n",
        "print(scalar)\n",
        "print(scalar.ndim)\n",
        "\n",
        "# vector\n",
        "vector = tf.constant([10, 10])\n",
        "print(vector)\n",
        "print(vector.ndim)\n",
        "\n",
        "# matrix\n",
        "matrix = tf.constant([[1, 2],\n",
        "                      [3, 4]], dtype = tf.float16)\n",
        "print(matrix)\n",
        "print(matrix.ndim)\n",
        "\n",
        "# tensor\n",
        "tensor = tf.constant([[[1, 2],\n",
        "                      [3, 4]],\n",
        "                     \n",
        "                     [[5, 6],\n",
        "                      [7, 8]],\n",
        "                     \n",
        "                     [[9, 10],\n",
        "                      [11, 12]]])\n",
        "print(tensor)\n",
        "print(tensor.ndim)\n",
        "\n",
        "changeable_tensor = tf.Variable([10, 7])\n",
        "print(changeable_tensor)\n",
        "changeable_tensor[0].assign(7)\n",
        "print(changeable_tensor)\n",
        "\n",
        "# random\n",
        "random_t = tf.random.Generator.from_seed(42) \n",
        "random_t = random_t.normal(shape=(5, 5))  \n",
        "print(random_t)\n",
        "\n",
        "# shuffle\n",
        "tf.random.shuffle(random_t)\n",
        "\n",
        "ones = tf.ones(shape=(3,2,2))\n",
        "print(ones)"
      ]
    },
    {
      "cell_type": "code",
      "source": [
        "import tensorflow as tf\n",
        "\n",
        "tensor = tf.random.normal(shape=(4, 4, 4, 4, 3))\n",
        "\n",
        "print('shape ',tensor.shape)\n",
        "print('rank ',tensor.ndim)\n",
        "print('size ', tf.size(tensor).numpy())\n",
        "print('elements of 0 axis ', tensor.shape[0])\n",
        "\n",
        "\n",
        "print(tensor[:2, :2, :2, :2, :2])\n",
        "# ten = tensor[..., tf.newaxis]\n",
        "# print(ten)\n"
      ],
      "metadata": {
        "id": "K1h3cjr9sKDv"
      },
      "execution_count": null,
      "outputs": []
    },
    {
      "cell_type": "code",
      "source": [
        "import tensorflow as tf\n",
        "tensor = tf.Variable([[2, 10],\n",
        "                     [14, 22]])\n",
        "\n",
        "print('+ \\n', tensor + 15)\n",
        "print('* \\n',tensor * 3)\n",
        "print('- \\n',tensor - 10)\n",
        "print()\n",
        "\n",
        "print('matrix \\n', tf.matmul(tensor, tensor))\n",
        "tensor_1 = tf.constant([[1,2,3],\n",
        "                        [4,10,1]])\n",
        "mult = tensor @ tensor_1\n",
        "print('@ \\n', mult)\n",
        "print('transpose \\n', tf.transpose(mult))\n",
        "print('reshape \\n', tf.reshape(mult, shape=(3, 2)))\n",
        "\n",
        "\n",
        "\n",
        "print(tensor)"
      ],
      "metadata": {
        "id": "_eUQsqkVwMi7"
      },
      "execution_count": null,
      "outputs": []
    },
    {
      "cell_type": "code",
      "source": [
        "import numpy as np\n",
        "import tensorflow as tf\n",
        "\n",
        "# np array to tensor\n",
        "np_array = np.arange(1,17)\n",
        "tensor = tf.constant(np_array, shape=(2, 2, 4))\n",
        "\n",
        "print(np_array)\n",
        "print(tensor, type(tensor))\n",
        "print()\n",
        "\n",
        "# tensor ty np\n",
        "t = tf.constant([[1, 2],\n",
        "                 [3, 4]])\n",
        "arr = np.array(t)\n",
        "# arr = t.numpy()\n",
        "print(arr, type(arr))"
      ],
      "metadata": {
        "colab": {
          "base_uri": "https://localhost:8080/"
        },
        "id": "VYh9hOdRqHL1",
        "outputId": "83011041-19f6-4d90-f355-eb1ef1a602f6"
      },
      "execution_count": null,
      "outputs": [
        {
          "output_type": "stream",
          "name": "stdout",
          "text": [
            "[ 1  2  3  4  5  6  7  8  9 10 11 12 13 14 15 16]\n",
            "tf.Tensor(\n",
            "[[[ 1  2  3  4]\n",
            "  [ 5  6  7  8]]\n",
            "\n",
            " [[ 9 10 11 12]\n",
            "  [13 14 15 16]]], shape=(2, 2, 4), dtype=int64) <class 'tensorflow.python.framework.ops.EagerTensor'>\n",
            "\n",
            "[[1 2]\n",
            " [3 4]] <class 'numpy.ndarray'>\n"
          ]
        }
      ]
    },
    {
      "cell_type": "markdown",
      "source": [
        "#Висновок\n",
        "У ході лабораторної роботи я ознайомилася з функціоналом бібліотеки TensorFlow та її можливостями."
      ],
      "metadata": {
        "id": "E02C_Az-PhON"
      }
    }
  ]
}