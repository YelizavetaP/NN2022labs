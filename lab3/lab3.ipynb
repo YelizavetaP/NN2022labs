{
  "cells": [
    {
      "cell_type": "markdown",
      "metadata": {
        "id": "view-in-github",
        "colab_type": "text"
      },
      "source": [
        "<a href=\"https://colab.research.google.com/github/YelizavetaP/NN2022labs/blob/main/lab3/lab3.ipynb\" target=\"_parent\"><img src=\"https://colab.research.google.com/assets/colab-badge.svg\" alt=\"Open In Colab\"/></a>"
      ]
    },
    {
      "cell_type": "markdown",
      "metadata": {
        "id": "kSEtkjPidAXX"
      },
      "source": [
        "#Лабораторна робота 3\n",
        "з дисципліни \"Нейронні мережі\" <br>\n",
        "студентки 3 курсу КН ФІТ<br>\n",
        "Поповаї Єлизавети"
      ]
    },
    {
      "cell_type": "markdown",
      "metadata": {
        "id": "ABfkYhkrdxWD"
      },
      "source": [
        "#З використанням бібліотеки Sklearn вирішити задачу регресії \n",
        "\n",
        "\n",
        "Поглиблено вивчити функцію make_regression.<br>\n",
        "\n",
        "Згенерувати набір даних за допомогою означеної функції, з використанням якнайбільшої кількості параметрів. <br>\n",
        "\n",
        "Розмірність набору даних прийняти у вигляді (100000х(30-n)), де n - номер за списком.<br>\n",
        "\n",
        "Здійснити моделювання згенерованого набору даних та візуалізацію результатів. <br>\n",
        "      \n",
        "Надати значення метрик якості, приклад прогнозування<br>\n",
        "\n"
      ]
    },
    {
      "cell_type": "markdown",
      "source": [
        "1. Генеруємо набір даних та відображаємо на графіку"
      ],
      "metadata": {
        "id": "3VE4FHaAGoJr"
      }
    },
    {
      "cell_type": "code",
      "execution_count": 51,
      "metadata": {
        "id": "2RvPKqY9eLc1",
        "colab": {
          "base_uri": "https://localhost:8080/",
          "height": 286
        },
        "outputId": "592ba7c4-1662-45ff-d8ce-df4ea1633150"
      },
      "outputs": [
        {
          "output_type": "stream",
          "name": "stdout",
          "text": [
            "1100000\n"
          ]
        },
        {
          "output_type": "display_data",
          "data": {
            "text/plain": [
              "<Figure size 432x288 with 1 Axes>"
            ],
            "image/png": "[encoded data removed]"
          },
          "metadata": {
            "needs_background": "light"
          }
        }
      ],
      "source": [
        "import numpy as np\n",
        "from matplotlib import pyplot\n",
        "from sklearn.datasets import make_regression\n",
        "from sklearn.linear_model import LinearRegression\n",
        "from sklearn.model_selection import train_test_split\n",
        "\n",
        "n = 100000*(30-19)\n",
        "print(n)\n",
        "X, y = make_regression(n_samples=n,  n_features=1, noise=50, bias=3, n_informative=1)\n",
        "\n",
        "pyplot.scatter(X,y)\n",
        "pyplot.show()"
      ]
    },
    {
      "cell_type": "markdown",
      "source": [
        "Розділяємо згенеровані дані на навчальні та тестові. <br>\n",
        "Створюємо та навчаємо модель. <br>\n",
        "Прогнозуємо значення для тестового набору.<br>"
      ],
      "metadata": {
        "id": "VLlzr3wkIs4y"
      }
    },
    {
      "cell_type": "code",
      "source": [
        "X_train, X_test, y_train, y_test = train_test_split(X, y, test_size=0.2, random_state=0)\n",
        "\n",
        "model = LinearRegression().fit(X_train, y_train)\n",
        "y_pred = model.predict(X_test)\n",
        "# print(X_test)\n",
        "# print(y_pred)\n",
        "pyplot.scatter(X_test,y_pred)\n",
        "pyplot.show()"
      ],
      "metadata": {
        "colab": {
          "base_uri": "https://localhost:8080/",
          "height": 265
        },
        "id": "_SqKnvxfI7bF",
        "outputId": "425755e7-1c29-4d28-a785-aebb9bf6004d"
      },
      "execution_count": 52,
      "outputs": [
        {
          "output_type": "display_data",
          "data": {
            "text/plain": [
              "<Figure size 432x288 with 1 Axes>"
            ],
            "image/png": "[encoded data removed]"
          },
          "metadata": {
            "needs_background": "light"
          }
        }
      ]
    },
    {
      "cell_type": "markdown",
      "source": [
        "Розраховуємо значення метрик якості."
      ],
      "metadata": {
        "id": "uJbVhfmfLUzL"
      }
    },
    {
      "cell_type": "code",
      "source": [
        "from sklearn import metrics\n",
        "print('MAE:', metrics.mean_absolute_error(y_test, y_pred))\n",
        "print('MSE:', metrics.mean_squared_error(y_test, y_pred))\n",
        "print('Root Mean Squared Error:', np.sqrt(metrics.mean_squared_error(y_test, y_pred)))"
      ],
      "metadata": {
        "colab": {
          "base_uri": "https://localhost:8080/"
        },
        "id": "_v3Xs693LULi",
        "outputId": "21431d3c-8639-4b36-c584-c13802c2fadc"
      },
      "execution_count": 53,
      "outputs": [
        {
          "output_type": "stream",
          "name": "stdout",
          "text": [
            "MAE: 40.01583502137859\n",
            "MSE: 2511.9125919637354\n",
            "Root Mean Squared Error: 50.118984346889306\n"
          ]
        }
      ]
    },
    {
      "cell_type": "markdown",
      "metadata": {
        "id": "Z9mER_d0enEI"
      },
      "source": [
        "#Висновок\n",
        "Виконавши данну роботу я навчилась вирішуваи задачу регресії засобами бібліотеки Sklearn."
      ]
    }
  ],
  "metadata": {
    "accelerator": "GPU",
    "colab": {
      "collapsed_sections": [],
      "name": "lab3.ipynb",
      "provenance": [],
      "authorship_tag": "ABX9TyNPD8YSpQesHmHC/FBj/O5o",
      "include_colab_link": true
    },
    "kernelspec": {
      "display_name": "Python 3",
      "name": "python3"
    },
    "language_info": {
      "name": "python"
    }
  },
  "nbformat": 4,
  "nbformat_minor": 0
}