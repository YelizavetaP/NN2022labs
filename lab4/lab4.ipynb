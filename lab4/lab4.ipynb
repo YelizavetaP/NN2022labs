{
  "nbformat": 4,
  "nbformat_minor": 0,
  "metadata": {
    "colab": {
      "name": "lab4.ipynb",
      "provenance": [],
      "authorship_tag": "ABX9TyMMEmb7ttt/rFjNuBRMUfB4",
      "include_colab_link": true
    },
    "kernelspec": {
      "name": "python3",
      "display_name": "Python 3"
    },
    "language_info": {
      "name": "python"
    }
  },
  "cells": [
    {
      "cell_type": "markdown",
      "metadata": {
        "id": "view-in-github",
        "colab_type": "text"
      },
      "source": [
        "<a href=\"https://colab.research.google.com/github/YelizavetaP/NN2022labs/blob/main/lab4/lab4.ipynb\" target=\"_parent\"><img src=\"https://colab.research.google.com/assets/colab-badge.svg\" alt=\"Open In Colab\"/></a>"
      ]
    },
    {
      "cell_type": "markdown",
      "source": [
        "#Лабораторна робота 4\n",
        "з дисципліни \"Нейронні мережі\" <br>\n",
        "студентки 3 курсу КН ФІТ<br>\n",
        "Поповаї Єлизавети"
      ],
      "metadata": {
        "id": "22cWyvKY5Kqx"
      }
    },
    {
      "cell_type": "markdown",
      "source": [
        "\n",
        "1. На основі документу вирішити завдання класифікації для набору даних Fashion MNIST. <br>\n",
        "2. Для моделювання використати 3 класи індекси яких взяти відповідно до номеру у списку групи. <br>\n",
        "3. Моделювання провести із використанням нейронної мережі (Flatten & Dense layers). <br>\n",
        "4. Здійснити вибір оптимального кроку градієнтного алгоритму (learning_rate), а також побудову Confusion Matrix.  <br>\n",
        "5. Результати оформити у вигляді файлу з кодом для моделювання та візуалізації у форматі .ipynb\n"
      ],
      "metadata": {
        "id": "ZokBz9n254aM"
      }
    },
    {
      "cell_type": "code",
      "execution_count": 35,
      "metadata": {
        "id": "HRf0ZLgR84CE"
      },
      "outputs": [],
      "source": [
        "import tensorflow as tf\n",
        "from tensorflow.keras.datasets import fashion_mnist\n",
        "\n",
        "(train_data, train_labels), (test_data, test_labels) = fashion_mnist.load_data()"
      ]
    },
    {
      "cell_type": "code",
      "source": [
        "import numpy as np\n",
        "# 5 8 2\n",
        "classes = ['Sandal','Bag', 'Pullover']\n",
        "\n",
        "myTrain_data = []\n",
        "myTrain_labels = []\n",
        "myTest_data = []\n",
        "myTest_labels  = []\n",
        "\n",
        "for i in range(len(train_labels)):\n",
        "  if (train_labels[i]==2 or train_labels[i]==5 or train_labels[i]==8 ):\n",
        "    myTrain_data.append(train_data[i])\n",
        "    myTrain_labels.append(train_labels[i])\n",
        "\n",
        "for i in range(len(test_labels)):\n",
        "  if (test_labels[i]==2 or test_labels[i]==5 or test_labels[i]==8 ):\n",
        "    myTest_data.append(test_data[i])\n",
        "    myTest_labels.append(test_labels[i])\n",
        "\n",
        "my_train_data = np.array(myTrain_data)\n",
        "my_train_labels = np.array(myTrain_labels)\n",
        "my_test_data= np.array(myTest_data)\n",
        "my_test_labels  = np.array(myTest_labels)"
      ],
      "metadata": {
        "id": "aQlcqSk26qLZ"
      },
      "execution_count": 36,
      "outputs": []
    },
    {
      "cell_type": "code",
      "source": [
        "\n",
        "# Check the shape of our data and single example\n",
        "print('Shape')\n",
        "print(my_train_data.shape, my_train_labels.shape, my_test_data.shape, my_test_labels.shape)\n",
        "print(my_train_data[0].shape, my_train_labels[0].shape)\n",
        "print('\\nData')\n",
        "print(f\"Training sample:\\n{my_train_data[0]}\\n\")\n",
        "print(f\"Training lables:\\n{my_train_labels[0]}\")"
      ],
      "metadata": {
        "colab": {
          "base_uri": "https://localhost:8080/"
        },
        "id": "BqEQ2MTlL1c4",
        "outputId": "b7ccadcf-8c6a-4904-810b-f4e0cfa4210b"
      },
      "execution_count": 37,
      "outputs": [
        {
          "output_type": "stream",
          "name": "stdout",
          "text": [
            "Shape\n",
            "(18000, 28, 28) (18000,) (3000, 28, 28) (3000,)\n",
            "(28, 28) ()\n",
            "\n",
            "Data\n",
            "Training sample:\n",
            "[[  0   0   0   0   1   0   0   0   0  22  88 188 172 132 125 141 199 143\n",
            "    9   0   0   0   1   0   0   0   0   0]\n",
            " [  0   0   0   1   0   0  20 131 199 206 196 202 242 255 255 250 222 197\n",
            "  206 188 126  17   0   0   0   0   0   0]\n",
            " [  0   0   0   1   0  35 214 191 183 178 175 168 150 162 159 152 158 179\n",
            "  183 189 195 185  82   0   0   0   0   0]\n",
            " [  0   0   0   0   0 170 190 172 177 176 171 169 162 155 148 154 169 174\n",
            "  175 175 177 183 188  12   0   0   0   0]\n",
            " [  0   0   0   0  25 194 180 178 174 184 187 189 187 184 181 189 200 197\n",
            "  193 190 178 175 194  90   0   0   0   0]\n",
            " [  0   0   0   0  42 218 191 197 208 204 211 209 210 212 211 214 215 213\n",
            "  214 211 211 191 200 158   0   0   0   0]\n",
            " [  0   0   0   0  88 221 215 217 219 211 185 150 118 107  99  88  83  90\n",
            "  135 212 203 207 219 169   0   0   0   0]\n",
            " [  0   0   0   0   0  27 118 162  40   0   0   0  10  19  28  39  47  36\n",
            "    0   0 203 230 220 203   0   0   0   0]\n",
            " [  0   0   0   0 138 136  71  69  54 216 217 203 184 168 163 162 163 178\n",
            "  221 186  38  26   7   0   0   0   0   0]\n",
            " [  0   0   0   0  67 134 154 224 129  66  81 117 129 128 132 137 131 129\n",
            "   86  73 157 151 134 216  18   0   0   0]\n",
            " [  0   0   0   0 203 198 172 183 206 255 255 250 243 240 239 235 238 244\n",
            "  255 238 184 160  86  98   0   0   0   0]\n",
            " [  0   0   0   0 122 188 224 151 105 127  97 100 105 114 117 117 113 103\n",
            "   98 111 142 254 191 255  49   0   0   0]\n",
            " [  0   0   0   0 163 179 200  95 154 198 197 200 200 198 197 198 199 202\n",
            "  200 176  86 206 157 162  10   0   0   0]\n",
            " [  0   0   0   0 197 201 229  71 144 194 181 183 179 182 180 179 180 190\n",
            "  185 197  76 219 185 201  34   0   0   0]\n",
            " [  0   0   0   0 199 193 226  58 154 192 184 187 184 186 184 185 183 192\n",
            "  191 200  56 219 203 207  60   0   0   0]\n",
            " [  0   0   0   0 201 194 224  41 163 190 186 186 184 185 183 185 178 190\n",
            "  194 202  33 211 200 206  73   0   0   0]\n",
            " [  0   0   0   0 201 197 222  17 172 190 186 187 182 186 185 187 180 187\n",
            "  193 202  26 212 202 203  76   0   0   0]\n",
            " [  0   0   0   0 200 197 223   0 177 189 184 185 178 184 183 184 180 183\n",
            "  189 203  35 196 203 203  84   0   0   0]\n",
            " [  0   0   0   0 200 197 223   0 185 187 185 187 180 184 182 183 178 182\n",
            "  183 205  44 159 207 201  85   0   0   0]\n",
            " [  0   0   0   0 187 198 225   0 194 188 184 185 180 183 183 184 181 181\n",
            "  177 206  46 129 211 200  88   0   0   0]\n",
            " [  0   0   0   6 186 200 211   0 199 189 184 184 185 182 183 184 185 182\n",
            "  175 205  50  97 216 197  93   0   0   0]\n",
            " [  0   0   0   5 185 204 184   0 202 188 182 182 183 183 184 182 180 182\n",
            "  174 202  63  59 220 196  94   0   0   0]\n",
            " [  0   0   0   5 184 206 157   0 204 187 187 189 192 190 190 191 190 187\n",
            "  183 202  78  35 222 197  95   0   0   0]\n",
            " [  0   0   0   5 183 208 127   0 197 166 153 149 149 146 148 149 150 151\n",
            "  158 191  90   8 223 195  99   0   0   0]\n",
            " [  0   0   0   6 184 208 114   0 204 173 161 180 176 172 173 173 174 176\n",
            "  162 202 115   0 229 199 105   0   0   0]\n",
            " [  0   0   0   9 178 204 115   0 121 135 114 117 114 114 117 118 119 117\n",
            "  113 147  63   0 225 196 107   0   0   0]\n",
            " [  0   0   0  18 180 206 131   0   0   0   0   0   0   0   0   0   0   0\n",
            "    0   0   0   0 224 197 123   0   0   0]\n",
            " [  0   0   0   0 141 151  76   0   1   1   0   0   0   0   0   0   0   0\n",
            "    0   0   0   0 133 167  73   0   0   0]]\n",
            "\n",
            "Training lables:\n",
            "2\n"
          ]
        }
      ]
    },
    {
      "cell_type": "code",
      "source": [
        "# Plot multiple random images of fashion MNIST\n",
        "import matplotlib.pyplot as plt\n",
        "import random\n",
        "plt.figure(figsize=(7, 7))\n",
        "for i in range(4):\n",
        "  ax = plt.subplot(2, 2, i + 1)\n",
        "  rand_index = random.choice(range(len(my_train_data)))\n",
        "  plt.imshow(my_train_data[rand_index], cmap=plt.cm.binary)\n",
        "  plt.title(my_train_labels[rand_index])\n",
        "  plt.axis(False) "
      ],
      "metadata": {
        "colab": {
          "base_uri": "https://localhost:8080/",
          "height": 427
        },
        "id": "QTH1c6AdQDfn",
        "outputId": "b14dfd69-faf2-47e7-aa70-237af42718e8"
      },
      "execution_count": 51,
      "outputs": [
        {
          "output_type": "display_data",
          "data": {
            "text/plain": [
              "<Figure size 504x504 with 4 Axes>"
            ],
            "image/png": "[encoded data removed]"
          },
          "metadata": {
            "needs_background": "light"
          }
        }
      ]
    },
    {
      "cell_type": "code",
      "source": [
        "# normalize\n",
        "my_train_data = my_train_data / 255.0\n",
        "my_test_data = my_test_data / 255.0"
      ],
      "metadata": {
        "id": "PgFLfYm-9VGZ"
      },
      "execution_count": 40,
      "outputs": []
    },
    {
      "cell_type": "markdown",
      "source": [
        "Знайдемо ідеальну швидкість навчання"
      ],
      "metadata": {
        "id": "RHQ4PMWI_bRs"
      }
    },
    {
      "cell_type": "code",
      "source": [
        "# creating a model\n",
        "tf.random.set_seed(42)\n",
        "\n",
        "model = tf.keras.Sequential([\n",
        "  tf.keras.layers.Flatten(input_shape=(28, 28)), # input layer (we had to reshape 28x28 to 784)\n",
        "  tf.keras.layers.Dense(4, activation=\"relu\"),\n",
        "  tf.keras.layers.Dense(4, activation=\"relu\"),\n",
        "  tf.keras.layers.Dense(10, activation=\"softmax\") # output shape is 10, activation is softmax\n",
        "])\n",
        "\n",
        "# Compile the model\n",
        "model.compile(loss=tf.keras.losses.SparseCategoricalCrossentropy(),\n",
        "                 optimizer=tf.keras.optimizers.Adam(),\n",
        "                 metrics=[\"accuracy\"])\n",
        "\n",
        "# Create the learning rate callback\n",
        "lr_scheduler = tf.keras.callbacks.LearningRateScheduler(lambda epoch: 1e-3 *10**(epoch/20))\n",
        "\n",
        "find_lr_history = model.fit(my_train_data,\n",
        "                    my_train_labels,\n",
        "                    epochs=40,\n",
        "                    validation_data=(my_test_data, my_test_labels),\n",
        "                    callbacks=[lr_scheduler])\n",
        "\n",
        "lrs = 1e-3 * (10**(np.arange(40)/20))\n",
        "plt.semilogx(lrs, find_lr_history.history[\"loss\"]) \n",
        "plt.xlabel(\"Learning rate\")\n",
        "plt.ylabel(\"Loss\")\n",
        "plt.title(\"Finding the ideal learning rate\");\n"
      ],
      "metadata": {
        "colab": {
          "base_uri": "https://localhost:8080/",
          "height": 1000
        },
        "id": "Tcu6y5UyavBL",
        "outputId": "8e814908-8cfd-4194-bb86-5106c1ddd69d"
      },
      "execution_count": 53,
      "outputs": [
        {
          "output_type": "stream",
          "name": "stdout",
          "text": [
            "Epoch 1/40\n",
            "563/563 [==============================] - 2s 3ms/step - loss: 0.5312 - accuracy: 0.8410 - val_loss: 0.0934 - val_accuracy: 0.9800 - lr: 0.0010\n",
            "Epoch 2/40\n",
            "563/563 [==============================] - 1s 2ms/step - loss: 0.0785 - accuracy: 0.9814 - val_loss: 0.0611 - val_accuracy: 0.9830 - lr: 0.0011\n",
            "Epoch 3/40\n",
            "563/563 [==============================] - 1s 2ms/step - loss: 0.0564 - accuracy: 0.9854 - val_loss: 0.0530 - val_accuracy: 0.9837 - lr: 0.0013\n",
            "Epoch 4/40\n",
            "563/563 [==============================] - 1s 2ms/step - loss: 0.0480 - accuracy: 0.9862 - val_loss: 0.0452 - val_accuracy: 0.9877 - lr: 0.0014\n",
            "Epoch 5/40\n",
            "563/563 [==============================] - 1s 2ms/step - loss: 0.0422 - accuracy: 0.9872 - val_loss: 0.0463 - val_accuracy: 0.9867 - lr: 0.0016\n",
            "Epoch 6/40\n",
            "563/563 [==============================] - 1s 2ms/step - loss: 0.0360 - accuracy: 0.9889 - val_loss: 0.0448 - val_accuracy: 0.9880 - lr: 0.0018\n",
            "Epoch 7/40\n",
            "563/563 [==============================] - 1s 2ms/step - loss: 0.0362 - accuracy: 0.9873 - val_loss: 0.0417 - val_accuracy: 0.9887 - lr: 0.0020\n",
            "Epoch 8/40\n",
            "563/563 [==============================] - 1s 2ms/step - loss: 0.0299 - accuracy: 0.9901 - val_loss: 0.0411 - val_accuracy: 0.9873 - lr: 0.0022\n",
            "Epoch 9/40\n",
            "563/563 [==============================] - 1s 2ms/step - loss: 0.0307 - accuracy: 0.9893 - val_loss: 0.0409 - val_accuracy: 0.9883 - lr: 0.0025\n",
            "Epoch 10/40\n",
            "563/563 [==============================] - 1s 2ms/step - loss: 0.0278 - accuracy: 0.9899 - val_loss: 0.0426 - val_accuracy: 0.9873 - lr: 0.0028\n",
            "Epoch 11/40\n",
            "563/563 [==============================] - 1s 2ms/step - loss: 0.0300 - accuracy: 0.9888 - val_loss: 0.0404 - val_accuracy: 0.9880 - lr: 0.0032\n",
            "Epoch 12/40\n",
            "563/563 [==============================] - 1s 2ms/step - loss: 0.0271 - accuracy: 0.9897 - val_loss: 0.0488 - val_accuracy: 0.9827 - lr: 0.0035\n",
            "Epoch 13/40\n",
            "563/563 [==============================] - 1s 2ms/step - loss: 0.0248 - accuracy: 0.9914 - val_loss: 0.0444 - val_accuracy: 0.9857 - lr: 0.0040\n",
            "Epoch 14/40\n",
            "563/563 [==============================] - 1s 2ms/step - loss: 0.0250 - accuracy: 0.9911 - val_loss: 0.0591 - val_accuracy: 0.9823 - lr: 0.0045\n",
            "Epoch 15/40\n",
            "563/563 [==============================] - 1s 2ms/step - loss: 0.0261 - accuracy: 0.9914 - val_loss: 0.0545 - val_accuracy: 0.9850 - lr: 0.0050\n",
            "Epoch 16/40\n",
            "563/563 [==============================] - 1s 2ms/step - loss: 0.0270 - accuracy: 0.9905 - val_loss: 0.0424 - val_accuracy: 0.9860 - lr: 0.0056\n",
            "Epoch 17/40\n",
            "563/563 [==============================] - 1s 2ms/step - loss: 0.0296 - accuracy: 0.9902 - val_loss: 0.0592 - val_accuracy: 0.9803 - lr: 0.0063\n",
            "Epoch 18/40\n",
            "563/563 [==============================] - 1s 2ms/step - loss: 0.0230 - accuracy: 0.9927 - val_loss: 0.1114 - val_accuracy: 0.9777 - lr: 0.0071\n",
            "Epoch 19/40\n",
            "563/563 [==============================] - 1s 2ms/step - loss: 0.0256 - accuracy: 0.9917 - val_loss: 0.0468 - val_accuracy: 0.9867 - lr: 0.0079\n",
            "Epoch 20/40\n",
            "563/563 [==============================] - 1s 2ms/step - loss: 0.0341 - accuracy: 0.9887 - val_loss: 0.1566 - val_accuracy: 0.9663 - lr: 0.0089\n",
            "Epoch 21/40\n",
            "563/563 [==============================] - 1s 2ms/step - loss: 0.0293 - accuracy: 0.9907 - val_loss: 0.0429 - val_accuracy: 0.9883 - lr: 0.0100\n",
            "Epoch 22/40\n",
            "563/563 [==============================] - 1s 2ms/step - loss: 0.0261 - accuracy: 0.9914 - val_loss: 0.0442 - val_accuracy: 0.9877 - lr: 0.0112\n",
            "Epoch 23/40\n",
            "563/563 [==============================] - 1s 2ms/step - loss: 0.0301 - accuracy: 0.9897 - val_loss: 0.0850 - val_accuracy: 0.9777 - lr: 0.0126\n",
            "Epoch 24/40\n",
            "563/563 [==============================] - 1s 2ms/step - loss: 0.0391 - accuracy: 0.9868 - val_loss: 0.0523 - val_accuracy: 0.9873 - lr: 0.0141\n",
            "Epoch 25/40\n",
            "563/563 [==============================] - 1s 2ms/step - loss: 0.0339 - accuracy: 0.9907 - val_loss: 0.1729 - val_accuracy: 0.9677 - lr: 0.0158\n",
            "Epoch 26/40\n",
            "563/563 [==============================] - 1s 2ms/step - loss: 0.0355 - accuracy: 0.9897 - val_loss: 0.0614 - val_accuracy: 0.9850 - lr: 0.0178\n",
            "Epoch 27/40\n",
            "563/563 [==============================] - 1s 2ms/step - loss: 0.0413 - accuracy: 0.9879 - val_loss: 0.0484 - val_accuracy: 0.9883 - lr: 0.0200\n",
            "Epoch 28/40\n",
            "563/563 [==============================] - 1s 2ms/step - loss: 0.0461 - accuracy: 0.9877 - val_loss: 0.0644 - val_accuracy: 0.9810 - lr: 0.0224\n",
            "Epoch 29/40\n",
            "563/563 [==============================] - 1s 2ms/step - loss: 0.0425 - accuracy: 0.9888 - val_loss: 0.1230 - val_accuracy: 0.9700 - lr: 0.0251\n",
            "Epoch 30/40\n",
            "563/563 [==============================] - 1s 2ms/step - loss: 0.0690 - accuracy: 0.9823 - val_loss: 0.0827 - val_accuracy: 0.9773 - lr: 0.0282\n",
            "Epoch 31/40\n",
            "563/563 [==============================] - 1s 2ms/step - loss: 0.0407 - accuracy: 0.9892 - val_loss: 0.0850 - val_accuracy: 0.9880 - lr: 0.0316\n",
            "Epoch 32/40\n",
            "563/563 [==============================] - 1s 2ms/step - loss: 0.0844 - accuracy: 0.9806 - val_loss: 0.1177 - val_accuracy: 0.9750 - lr: 0.0355\n",
            "Epoch 33/40\n",
            "563/563 [==============================] - 1s 2ms/step - loss: 0.4915 - accuracy: 0.7321 - val_loss: 0.5767 - val_accuracy: 0.6637 - lr: 0.0398\n",
            "Epoch 34/40\n",
            "563/563 [==============================] - 1s 2ms/step - loss: 0.5039 - accuracy: 0.6644 - val_loss: 0.5327 - val_accuracy: 0.6527 - lr: 0.0447\n",
            "Epoch 35/40\n",
            "563/563 [==============================] - 1s 2ms/step - loss: 0.5110 - accuracy: 0.6552 - val_loss: 0.5424 - val_accuracy: 0.6540 - lr: 0.0501\n",
            "Epoch 36/40\n",
            "563/563 [==============================] - 1s 2ms/step - loss: 0.5283 - accuracy: 0.6607 - val_loss: 0.5754 - val_accuracy: 0.6620 - lr: 0.0562\n",
            "Epoch 37/40\n",
            "563/563 [==============================] - 1s 2ms/step - loss: 0.5701 - accuracy: 0.6376 - val_loss: 0.7188 - val_accuracy: 0.6613 - lr: 0.0631\n",
            "Epoch 38/40\n",
            "563/563 [==============================] - 1s 2ms/step - loss: 1.0452 - accuracy: 0.3820 - val_loss: 1.1025 - val_accuracy: 0.3333 - lr: 0.0708\n",
            "Epoch 39/40\n",
            "563/563 [==============================] - 1s 2ms/step - loss: 1.1042 - accuracy: 0.3384 - val_loss: 1.1058 - val_accuracy: 0.3333 - lr: 0.0794\n",
            "Epoch 40/40\n",
            "563/563 [==============================] - 1s 2ms/step - loss: 1.1034 - accuracy: 0.3362 - val_loss: 1.1042 - val_accuracy: 0.3333 - lr: 0.0891\n"
          ]
        },
        {
          "output_type": "display_data",
          "data": {
            "text/plain": [
              "<Figure size 432x288 with 1 Axes>"
            ],
            "image/png": "[encoded data removed]"
          },
          "metadata": {
            "needs_background": "light"
          }
        }
      ]
    },
    {
      "cell_type": "markdown",
      "source": [
        "Навчимо модень використовуючи отримане оптимальне значення - 0.007"
      ],
      "metadata": {
        "id": "yqM8OJsj_t3r"
      }
    },
    {
      "cell_type": "code",
      "source": [
        "model = tf.keras.Sequential([\n",
        "  tf.keras.layers.Flatten(input_shape=(28, 28)),\n",
        "  tf.keras.layers.Dense(4, activation=\"relu\"),\n",
        "  tf.keras.layers.Dense(4, activation=\"relu\"),\n",
        "  tf.keras.layers.Dense(10, activation=\"softmax\")\n",
        "])\n",
        "\n",
        "# Compile the model\n",
        "model.compile(loss=tf.keras.losses.SparseCategoricalCrossentropy(),\n",
        "                 optimizer=tf.keras.optimizers.Adam(lr=0.0071),\n",
        "                 metrics=[\"accuracy\"])\n",
        "\n",
        "\n",
        "find_lr_history = model.fit(my_train_data,\n",
        "                    my_train_labels,\n",
        "                    epochs=20,\n",
        "                    validation_data=(my_test_data, my_test_labels))\n"
      ],
      "metadata": {
        "colab": {
          "base_uri": "https://localhost:8080/"
        },
        "id": "CudjGfDC_jHT",
        "outputId": "774c42d8-8ca5-4eda-8733-1b85fa11a408"
      },
      "execution_count": 55,
      "outputs": [
        {
          "output_type": "stream",
          "name": "stdout",
          "text": [
            "Epoch 1/20\n"
          ]
        },
        {
          "output_type": "stream",
          "name": "stderr",
          "text": [
            "/usr/local/lib/python3.7/dist-packages/keras/optimizer_v2/adam.py:105: UserWarning: The `lr` argument is deprecated, use `learning_rate` instead.\n",
            "  super(Adam, self).__init__(name, **kwargs)\n"
          ]
        },
        {
          "output_type": "stream",
          "name": "stdout",
          "text": [
            "563/563 [==============================] - 2s 2ms/step - loss: 0.3591 - accuracy: 0.9093 - val_loss: 0.1438 - val_accuracy: 0.9587\n",
            "Epoch 2/20\n",
            "563/563 [==============================] - 1s 2ms/step - loss: 0.0799 - accuracy: 0.9802 - val_loss: 0.0866 - val_accuracy: 0.9827\n",
            "Epoch 3/20\n",
            "563/563 [==============================] - 1s 2ms/step - loss: 0.0607 - accuracy: 0.9853 - val_loss: 0.0725 - val_accuracy: 0.9810\n",
            "Epoch 4/20\n",
            "563/563 [==============================] - 1s 2ms/step - loss: 0.0565 - accuracy: 0.9857 - val_loss: 0.0793 - val_accuracy: 0.9790\n",
            "Epoch 5/20\n",
            "563/563 [==============================] - 1s 2ms/step - loss: 0.0552 - accuracy: 0.9856 - val_loss: 0.0672 - val_accuracy: 0.9840\n",
            "Epoch 6/20\n",
            "563/563 [==============================] - 1s 2ms/step - loss: 0.0493 - accuracy: 0.9881 - val_loss: 0.0681 - val_accuracy: 0.9867\n",
            "Epoch 7/20\n",
            "563/563 [==============================] - 1s 2ms/step - loss: 0.0499 - accuracy: 0.9875 - val_loss: 0.0678 - val_accuracy: 0.9803\n",
            "Epoch 8/20\n",
            "563/563 [==============================] - 1s 2ms/step - loss: 0.0468 - accuracy: 0.9882 - val_loss: 0.0984 - val_accuracy: 0.9813\n",
            "Epoch 9/20\n",
            "563/563 [==============================] - 1s 2ms/step - loss: 0.0540 - accuracy: 0.9869 - val_loss: 0.0777 - val_accuracy: 0.9750\n",
            "Epoch 10/20\n",
            "563/563 [==============================] - 1s 3ms/step - loss: 0.0420 - accuracy: 0.9903 - val_loss: 0.0740 - val_accuracy: 0.9863\n",
            "Epoch 11/20\n",
            "563/563 [==============================] - 1s 2ms/step - loss: 0.0450 - accuracy: 0.9897 - val_loss: 0.1187 - val_accuracy: 0.9700\n",
            "Epoch 12/20\n",
            "563/563 [==============================] - 1s 2ms/step - loss: 0.0462 - accuracy: 0.9894 - val_loss: 0.0582 - val_accuracy: 0.9880\n",
            "Epoch 13/20\n",
            "563/563 [==============================] - 1s 2ms/step - loss: 0.0412 - accuracy: 0.9901 - val_loss: 0.1170 - val_accuracy: 0.9787\n",
            "Epoch 14/20\n",
            "563/563 [==============================] - 1s 2ms/step - loss: 0.0410 - accuracy: 0.9901 - val_loss: 0.0788 - val_accuracy: 0.9873\n",
            "Epoch 15/20\n",
            "563/563 [==============================] - 1s 2ms/step - loss: 0.0399 - accuracy: 0.9904 - val_loss: 0.0671 - val_accuracy: 0.9873\n",
            "Epoch 16/20\n",
            "563/563 [==============================] - 1s 2ms/step - loss: 0.0430 - accuracy: 0.9886 - val_loss: 0.0719 - val_accuracy: 0.9847\n",
            "Epoch 17/20\n",
            "563/563 [==============================] - 1s 2ms/step - loss: 0.0379 - accuracy: 0.9905 - val_loss: 0.0614 - val_accuracy: 0.9857\n",
            "Epoch 18/20\n",
            "563/563 [==============================] - 1s 2ms/step - loss: 0.0367 - accuracy: 0.9911 - val_loss: 0.0730 - val_accuracy: 0.9853\n",
            "Epoch 19/20\n",
            "563/563 [==============================] - 1s 2ms/step - loss: 0.0340 - accuracy: 0.9914 - val_loss: 0.0749 - val_accuracy: 0.9860\n",
            "Epoch 20/20\n",
            "563/563 [==============================] - 1s 2ms/step - loss: 0.0387 - accuracy: 0.9909 - val_loss: 0.0865 - val_accuracy: 0.9873\n"
          ]
        }
      ]
    },
    {
      "cell_type": "markdown",
      "source": [
        "Побудуємо Confusion Matrix"
      ],
      "metadata": {
        "id": "YB-E5BqIAapP"
      }
    },
    {
      "cell_type": "code",
      "source": [
        "from sklearn.metrics import confusion_matrix\n",
        "# Make predictions with model\n",
        "y_probs = model.predict(my_test_data) \n",
        "y_preds = y_probs.argmax(axis=1)\n",
        "\n",
        "# View the first 10 prediction labels\n",
        "print(y_preds[:10])\n",
        "\n",
        "confusion_matrix(y_true=my_test_labels, \n",
        "                 y_pred=y_preds)"
      ],
      "metadata": {
        "colab": {
          "base_uri": "https://localhost:8080/"
        },
        "id": "p6NbJr4BDQzO",
        "outputId": "786a7b9e-13e7-4267-a778-e6384de8b250"
      },
      "execution_count": 56,
      "outputs": [
        {
          "output_type": "stream",
          "name": "stdout",
          "text": [
            "[2 5 5 2 8 2 5 8 8 8]\n"
          ]
        },
        {
          "output_type": "execute_result",
          "data": {
            "text/plain": [
              "array([[992,   1,   7],\n",
              "       [  0, 999,   1],\n",
              "       [ 18,  11, 971]])"
            ]
          },
          "metadata": {},
          "execution_count": 56
        }
      ]
    },
    {
      "cell_type": "markdown",
      "source": [
        "#Висновок\n",
        "В даній лобораторній роботі було розглянуто вирішення задачі багатокласової класифікаціїї за допомогою нейронної мережі з використанням Flatten & Dense layers."
      ],
      "metadata": {
        "id": "icoFDf8l5OKM"
      }
    }
  ]
}