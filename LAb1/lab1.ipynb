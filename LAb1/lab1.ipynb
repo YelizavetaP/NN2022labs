{
  "nbformat": 4,
  "nbformat_minor": 0,
  "metadata": {
    "colab": {
      "name": "lab1.ipynb",
      "provenance": [],
      "collapsed_sections": [],
      "authorship_tag": "ABX9TyOB5PtJ3vLo1OQc+WF0edY3",
      "include_colab_link": true
    },
    "kernelspec": {
      "name": "python3",
      "display_name": "Python 3"
    },
    "language_info": {
      "name": "python"
    },
    "accelerator": "GPU"
  },
  "cells": [
    {
      "cell_type": "markdown",
      "metadata": {
        "id": "view-in-github",
        "colab_type": "text"
      },
      "source": [
        "<a href=\"https://colab.research.google.com/github/YelizavetaP/NN2022labs/blob/main/LAb1/lab1.ipynb\" target=\"_parent\"><img src=\"https://colab.research.google.com/assets/colab-badge.svg\" alt=\"Open In Colab\"/></a>"
      ]
    },
    {
      "cell_type": "markdown",
      "source": [
        "#numpy"
      ],
      "metadata": {
        "id": "aEOzqg2tCg9e"
      }
    },
    {
      "cell_type": "markdown",
      "source": [
        "створити набір даних (розмір за власним рішенням), провести CRUD операції над даними (скаляр, вектор, матриця)). Властивість shape та метод  reshape. Операції над масивами. Використати arange, random."
      ],
      "metadata": {
        "id": "h6H9TzJH6rjd"
      }
    },
    {
      "cell_type": "code",
      "execution_count": null,
      "metadata": {
        "id": "N63mh2u594DK"
      },
      "outputs": [],
      "source": [
        "import numpy as np\n",
        "import random"
      ]
    },
    {
      "cell_type": "code",
      "source": [
        "# scalar\n",
        "print('scalar')\n",
        "a = 5\n",
        "print(a)\n",
        "\n",
        "#vector\n",
        "print('vector')\n",
        "a_vec = np.array([random.random() for i in range(10)])\n",
        "print(a_vec)\n",
        "print(a_vec.shape)\n",
        "\n",
        "# matrix\n",
        "print('matrix')\n",
        "a_matrix = np.arange(20).reshape(5,-1)\n",
        "print(a_matrix)\n",
        "print(a_matrix.shape)"
      ],
      "metadata": {
        "colab": {
          "base_uri": "https://localhost:8080/"
        },
        "id": "VAPzJYn_-Flp",
        "outputId": "2c9f92ca-53b2-41b8-cb53-523337584b6d"
      },
      "execution_count": null,
      "outputs": [
        {
          "output_type": "stream",
          "name": "stdout",
          "text": [
            "scalar\n",
            "5\n",
            "vector\n",
            "[0.63991447 0.00671707 0.38253338 0.56575307 0.21414733 0.84361673\n",
            " 0.23704087 0.26921971 0.78494442 0.30743498]\n",
            "(10,)\n",
            "matrix\n",
            "[[ 0  1  2  3]\n",
            " [ 4  5  6  7]\n",
            " [ 8  9 10 11]\n",
            " [12 13 14 15]\n",
            " [16 17 18 19]]\n",
            "(5, 4)\n"
          ]
        }
      ]
    },
    {
      "cell_type": "code",
      "source": [
        "#CRUD\n",
        "b_vec = np.arange(5,20,2)\n",
        "#append\n",
        "a_vec = np.append(a_vec,b_vec,0)\n",
        "print(a_vec)\n",
        "print()\n",
        "\n",
        "#insert\n",
        "print(a_matrix)\n",
        "a_matrix = np.insert(a_matrix,3,np.arange(4),0)\n",
        "\n",
        "print()\n",
        "\n",
        "#delete\n",
        "a_vec = np.delete(a_vec, [1,3],0)\n",
        "print(a_vec)\n",
        "a_matrix = np.delete(a_matrix, 1,0)\n",
        "a_matrix = np.delete(a_matrix, 3,1)\n",
        "print(a_matrix)\n",
        "print()\n"
      ],
      "metadata": {
        "colab": {
          "base_uri": "https://localhost:8080/"
        },
        "id": "rn9CNkMQHWrO",
        "outputId": "fa881fbe-95d8-4da0-9dd5-661954e36497"
      },
      "execution_count": null,
      "outputs": [
        {
          "output_type": "stream",
          "name": "stdout",
          "text": [
            "[6.39914471e-01 6.71707203e-03 3.82533379e-01 5.65753067e-01\n",
            " 2.14147332e-01 8.43616725e-01 2.37040875e-01 2.69219708e-01\n",
            " 7.84944420e-01 3.07434977e-01 5.00000000e+00 7.00000000e+00\n",
            " 9.00000000e+00 1.10000000e+01 1.30000000e+01 1.50000000e+01\n",
            " 1.70000000e+01 1.90000000e+01]\n",
            "\n",
            "[[ 0  1  2  3]\n",
            " [ 4  5  6  7]\n",
            " [ 8  9 10 11]\n",
            " [12 13 14 15]\n",
            " [16 17 18 19]]\n",
            "\n",
            "[ 0.63991447  0.38253338  0.21414733  0.84361673  0.23704087  0.26921971\n",
            "  0.78494442  0.30743498  5.          7.          9.         11.\n",
            " 13.         15.         17.         19.        ]\n",
            "[[ 0  1  2]\n",
            " [ 8  9 10]\n",
            " [ 0  1  2]\n",
            " [12 13 14]\n",
            " [16 17 18]]\n",
            "\n"
          ]
        }
      ]
    },
    {
      "cell_type": "code",
      "source": [
        "c_vec = np.arange(len(a_vec))\n",
        "print('c_vec\\n',c_vec)\n",
        "print('a_vec\\n',a_vec)\n",
        "\n",
        "print('c_vec + a_vec\\n',a_vec+c_vec)"
      ],
      "metadata": {
        "colab": {
          "base_uri": "https://localhost:8080/"
        },
        "id": "-cVO9t2e_R4P",
        "outputId": "2f728e14-29a5-439e-c685-941b99b211f0"
      },
      "execution_count": null,
      "outputs": [
        {
          "output_type": "stream",
          "name": "stdout",
          "text": [
            "c_vec\n",
            " [ 0  1  2  3  4  5  6  7  8  9 10 11 12 13 14 15]\n",
            "a_vec\n",
            " [ 0.63991447  0.38253338  0.21414733  0.84361673  0.23704087  0.26921971\n",
            "  0.78494442  0.30743498  5.          7.          9.         11.\n",
            " 13.         15.         17.         19.        ]\n",
            "c_vec + a_vec\n",
            " [ 0.63991447  1.38253338  2.21414733  3.84361673  4.23704087  5.26921971\n",
            "  6.78494442  7.30743498 13.         16.         19.         22.\n",
            " 25.         28.         31.         34.        ]\n"
          ]
        }
      ]
    },
    {
      "cell_type": "code",
      "source": [
        "c_vec = c_vec*0.5\n",
        "# print(len(a_matrix))\n",
        "print('c_vec\\n',c_vec[2:7])\n",
        "print('a_matrix\\n',a_matrix)\n",
        "print('c_vec=a_matrix')\n",
        "print(np.dot(c_vec[2:7],a_matrix))"
      ],
      "metadata": {
        "colab": {
          "base_uri": "https://localhost:8080/"
        },
        "id": "HRVRMIk3Euuc",
        "outputId": "73273101-063d-4eb4-99c9-b36a58c11544"
      },
      "execution_count": null,
      "outputs": [
        {
          "output_type": "stream",
          "name": "stdout",
          "text": [
            "c_vec\n",
            " [1.  1.5 2.  2.5 3. ]\n",
            "a_matrix\n",
            " [[ 0  1  2]\n",
            " [ 8  9 10]\n",
            " [ 0  1  2]\n",
            " [12 13 14]\n",
            " [16 17 18]]\n",
            "c_vec=a_matrix\n",
            "[ 90. 100. 110.]\n"
          ]
        }
      ]
    },
    {
      "cell_type": "markdown",
      "source": [
        "#pandas"
      ],
      "metadata": {
        "id": "WKqAi6EECnxs"
      }
    },
    {
      "cell_type": "markdown",
      "source": [
        " dataframe різними способами, провести маніпуляції з даними (head, describe, iloc, loc, індексація з умовами відбору, групування, пошук «пустих» значень, сортування.."
      ],
      "metadata": {
        "id": "f4vkpKq7JKT6"
      }
    },
    {
      "cell_type": "code",
      "source": [
        "import pandas as pd\n",
        " \n",
        "#list of lists\n",
        "data = [['a', 10], ['b', 15], ['c', 14], ['d', 17], ['e', 314], ['b', 41], ['c', 22],['b', 41],['e', 14]]\n",
        "df1 = pd.DataFrame(data, columns = ['first', 'second'])\n",
        " \n",
        "df1"
      ],
      "metadata": {
        "id": "Dn4WLsvWJLX3",
        "colab": {
          "base_uri": "https://localhost:8080/"
        },
        "outputId": "0f70a897-740f-4852-fb66-4e120de5c77e"
      },
      "execution_count": null,
      "outputs": [
        {
          "output_type": "execute_result",
          "data": {
            "text/html": [
              "\n",
              "  <div id=\"df-7f02c64d-af2a-443a-a287-976ae97ec8b1\">\n",
              "    <div class=\"colab-df-container\">\n",
              "      <div>\n",
              "<style scoped>\n",
              "    .dataframe tbody tr th:only-of-type {\n",
              "        vertical-align: middle;\n",
              "    }\n",
              "\n",
              "    .dataframe tbody tr th {\n",
              "        vertical-align: top;\n",
              "    }\n",
              "\n",
              "    .dataframe thead th {\n",
              "        text-align: right;\n",
              "    }\n",
              "</style>\n",
              "<table border=\"1\" class=\"dataframe\">\n",
              "  <thead>\n",
              "    <tr style=\"text-align: right;\">\n",
              "      <th></th>\n",
              "      <th>first</th>\n",
              "      <th>second</th>\n",
              "    </tr>\n",
              "  </thead>\n",
              "  <tbody>\n",
              "    <tr>\n",
              "      <th>0</th>\n",
              "      <td>a</td>\n",
              "      <td>10</td>\n",
              "    </tr>\n",
              "    <tr>\n",
              "      <th>1</th>\n",
              "      <td>b</td>\n",
              "      <td>15</td>\n",
              "    </tr>\n",
              "    <tr>\n",
              "      <th>2</th>\n",
              "      <td>c</td>\n",
              "      <td>14</td>\n",
              "    </tr>\n",
              "    <tr>\n",
              "      <th>3</th>\n",
              "      <td>d</td>\n",
              "      <td>17</td>\n",
              "    </tr>\n",
              "    <tr>\n",
              "      <th>4</th>\n",
              "      <td>e</td>\n",
              "      <td>314</td>\n",
              "    </tr>\n",
              "    <tr>\n",
              "      <th>5</th>\n",
              "      <td>b</td>\n",
              "      <td>41</td>\n",
              "    </tr>\n",
              "    <tr>\n",
              "      <th>6</th>\n",
              "      <td>c</td>\n",
              "      <td>22</td>\n",
              "    </tr>\n",
              "    <tr>\n",
              "      <th>7</th>\n",
              "      <td>b</td>\n",
              "      <td>41</td>\n",
              "    </tr>\n",
              "    <tr>\n",
              "      <th>8</th>\n",
              "      <td>e</td>\n",
              "      <td>14</td>\n",
              "    </tr>\n",
              "  </tbody>\n",
              "</table>\n",
              "</div>\n",
              "      <button class=\"colab-df-convert\" onclick=\"convertToInteractive('df-7f02c64d-af2a-443a-a287-976ae97ec8b1')\"\n",
              "              title=\"Convert this dataframe to an interactive table.\"\n",
              "              style=\"display:none;\">\n",
              "        \n",
              "  <svg xmlns=\"http://www.w3.org/2000/svg\" height=\"24px\"viewBox=\"0 0 24 24\"\n",
              "       width=\"24px\">\n",
              "    <path d=\"M0 0h24v24H0V0z\" fill=\"none\"/>\n",
              "    <path d=\"M18.56 5.44l.94 2.06.94-2.06 2.06-.94-2.06-.94-.94-2.06-.94 2.06-2.06.94zm-11 1L8.5 8.5l.94-2.06 2.06-.94-2.06-.94L8.5 2.5l-.94 2.06-2.06.94zm10 10l.94 2.06.94-2.06 2.06-.94-2.06-.94-.94-2.06-.94 2.06-2.06.94z\"/><path d=\"M17.41 7.96l-1.37-1.37c-.4-.4-.92-.59-1.43-.59-.52 0-1.04.2-1.43.59L10.3 9.45l-7.72 7.72c-.78.78-.78 2.05 0 2.83L4 21.41c.39.39.9.59 1.41.59.51 0 1.02-.2 1.41-.59l7.78-7.78 2.81-2.81c.8-.78.8-2.07 0-2.86zM5.41 20L4 18.59l7.72-7.72 1.47 1.35L5.41 20z\"/>\n",
              "  </svg>\n",
              "      </button>\n",
              "      \n",
              "  <style>\n",
              "    .colab-df-container {\n",
              "      display:flex;\n",
              "      flex-wrap:wrap;\n",
              "      gap: 12px;\n",
              "    }\n",
              "\n",
              "    .colab-df-convert {\n",
              "      background-color: #E8F0FE;\n",
              "      border: none;\n",
              "      border-radius: 50%;\n",
              "      cursor: pointer;\n",
              "      display: none;\n",
              "      fill: #1967D2;\n",
              "      height: 32px;\n",
              "      padding: 0 0 0 0;\n",
              "      width: 32px;\n",
              "    }\n",
              "\n",
              "    .colab-df-convert:hover {\n",
              "      background-color: #E2EBFA;\n",
              "      box-shadow: 0px 1px 2px rgba(60, 64, 67, 0.3), 0px 1px 3px 1px rgba(60, 64, 67, 0.15);\n",
              "      fill: #174EA6;\n",
              "    }\n",
              "\n",
              "    [theme=dark] .colab-df-convert {\n",
              "      background-color: #3B4455;\n",
              "      fill: #D2E3FC;\n",
              "    }\n",
              "\n",
              "    [theme=dark] .colab-df-convert:hover {\n",
              "      background-color: #434B5C;\n",
              "      box-shadow: 0px 1px 3px 1px rgba(0, 0, 0, 0.15);\n",
              "      filter: drop-shadow(0px 1px 2px rgba(0, 0, 0, 0.3));\n",
              "      fill: #FFFFFF;\n",
              "    }\n",
              "  </style>\n",
              "\n",
              "      <script>\n",
              "        const buttonEl =\n",
              "          document.querySelector('#df-7f02c64d-af2a-443a-a287-976ae97ec8b1 button.colab-df-convert');\n",
              "        buttonEl.style.display =\n",
              "          google.colab.kernel.accessAllowed ? 'block' : 'none';\n",
              "\n",
              "        async function convertToInteractive(key) {\n",
              "          const element = document.querySelector('#df-7f02c64d-af2a-443a-a287-976ae97ec8b1');\n",
              "          const dataTable =\n",
              "            await google.colab.kernel.invokeFunction('convertToInteractive',\n",
              "                                                     [key], {});\n",
              "          if (!dataTable) return;\n",
              "\n",
              "          const docLinkHtml = 'Like what you see? Visit the ' +\n",
              "            '<a target=\"_blank\" href=https://colab.research.google.com/notebooks/data_table.ipynb>data table notebook</a>'\n",
              "            + ' to learn more about interactive tables.';\n",
              "          element.innerHTML = '';\n",
              "          dataTable['output_type'] = 'display_data';\n",
              "          await google.colab.output.renderOutput(dataTable, element);\n",
              "          const docLink = document.createElement('div');\n",
              "          docLink.innerHTML = docLinkHtml;\n",
              "          element.appendChild(docLink);\n",
              "        }\n",
              "      </script>\n",
              "    </div>\n",
              "  </div>\n",
              "  "
            ],
            "text/plain": [
              "  first  second\n",
              "0     a      10\n",
              "1     b      15\n",
              "2     c      14\n",
              "3     d      17\n",
              "4     e     314\n",
              "5     b      41\n",
              "6     c      22\n",
              "7     b      41\n",
              "8     e      14"
            ]
          },
          "metadata": {},
          "execution_count": 17
        }
      ]
    },
    {
      "cell_type": "code",
      "source": [
        ""
      ],
      "metadata": {
        "id": "mixRIR6DuFkF"
      },
      "execution_count": null,
      "outputs": []
    },
    {
      "cell_type": "code",
      "source": [
        "#data of lists.\n",
        "data = {'first':['a', 'b', 'c', 'd'],\n",
        "        'second':[2, 21, 19, 18]}\n",
        "df2 = pd.DataFrame(data)\n",
        "\n",
        "df2"
      ],
      "metadata": {
        "colab": {
          "base_uri": "https://localhost:8080/",
          "height": 175
        },
        "id": "nAWwL0g1ps1E",
        "outputId": "d5122d36-9025-4db9-8848-ef83ae71e9fd"
      },
      "execution_count": null,
      "outputs": [
        {
          "output_type": "execute_result",
          "data": {
            "text/html": [
              "\n",
              "  <div id=\"df-f9bb76c5-b760-4925-9943-ba6015230d2f\">\n",
              "    <div class=\"colab-df-container\">\n",
              "      <div>\n",
              "<style scoped>\n",
              "    .dataframe tbody tr th:only-of-type {\n",
              "        vertical-align: middle;\n",
              "    }\n",
              "\n",
              "    .dataframe tbody tr th {\n",
              "        vertical-align: top;\n",
              "    }\n",
              "\n",
              "    .dataframe thead th {\n",
              "        text-align: right;\n",
              "    }\n",
              "</style>\n",
              "<table border=\"1\" class=\"dataframe\">\n",
              "  <thead>\n",
              "    <tr style=\"text-align: right;\">\n",
              "      <th></th>\n",
              "      <th>first</th>\n",
              "      <th>second</th>\n",
              "    </tr>\n",
              "  </thead>\n",
              "  <tbody>\n",
              "    <tr>\n",
              "      <th>0</th>\n",
              "      <td>a</td>\n",
              "      <td>2</td>\n",
              "    </tr>\n",
              "    <tr>\n",
              "      <th>1</th>\n",
              "      <td>b</td>\n",
              "      <td>21</td>\n",
              "    </tr>\n",
              "    <tr>\n",
              "      <th>2</th>\n",
              "      <td>c</td>\n",
              "      <td>19</td>\n",
              "    </tr>\n",
              "    <tr>\n",
              "      <th>3</th>\n",
              "      <td>d</td>\n",
              "      <td>18</td>\n",
              "    </tr>\n",
              "  </tbody>\n",
              "</table>\n",
              "</div>\n",
              "      <button class=\"colab-df-convert\" onclick=\"convertToInteractive('df-f9bb76c5-b760-4925-9943-ba6015230d2f')\"\n",
              "              title=\"Convert this dataframe to an interactive table.\"\n",
              "              style=\"display:none;\">\n",
              "        \n",
              "  <svg xmlns=\"http://www.w3.org/2000/svg\" height=\"24px\"viewBox=\"0 0 24 24\"\n",
              "       width=\"24px\">\n",
              "    <path d=\"M0 0h24v24H0V0z\" fill=\"none\"/>\n",
              "    <path d=\"M18.56 5.44l.94 2.06.94-2.06 2.06-.94-2.06-.94-.94-2.06-.94 2.06-2.06.94zm-11 1L8.5 8.5l.94-2.06 2.06-.94-2.06-.94L8.5 2.5l-.94 2.06-2.06.94zm10 10l.94 2.06.94-2.06 2.06-.94-2.06-.94-.94-2.06-.94 2.06-2.06.94z\"/><path d=\"M17.41 7.96l-1.37-1.37c-.4-.4-.92-.59-1.43-.59-.52 0-1.04.2-1.43.59L10.3 9.45l-7.72 7.72c-.78.78-.78 2.05 0 2.83L4 21.41c.39.39.9.59 1.41.59.51 0 1.02-.2 1.41-.59l7.78-7.78 2.81-2.81c.8-.78.8-2.07 0-2.86zM5.41 20L4 18.59l7.72-7.72 1.47 1.35L5.41 20z\"/>\n",
              "  </svg>\n",
              "      </button>\n",
              "      \n",
              "  <style>\n",
              "    .colab-df-container {\n",
              "      display:flex;\n",
              "      flex-wrap:wrap;\n",
              "      gap: 12px;\n",
              "    }\n",
              "\n",
              "    .colab-df-convert {\n",
              "      background-color: #E8F0FE;\n",
              "      border: none;\n",
              "      border-radius: 50%;\n",
              "      cursor: pointer;\n",
              "      display: none;\n",
              "      fill: #1967D2;\n",
              "      height: 32px;\n",
              "      padding: 0 0 0 0;\n",
              "      width: 32px;\n",
              "    }\n",
              "\n",
              "    .colab-df-convert:hover {\n",
              "      background-color: #E2EBFA;\n",
              "      box-shadow: 0px 1px 2px rgba(60, 64, 67, 0.3), 0px 1px 3px 1px rgba(60, 64, 67, 0.15);\n",
              "      fill: #174EA6;\n",
              "    }\n",
              "\n",
              "    [theme=dark] .colab-df-convert {\n",
              "      background-color: #3B4455;\n",
              "      fill: #D2E3FC;\n",
              "    }\n",
              "\n",
              "    [theme=dark] .colab-df-convert:hover {\n",
              "      background-color: #434B5C;\n",
              "      box-shadow: 0px 1px 3px 1px rgba(0, 0, 0, 0.15);\n",
              "      filter: drop-shadow(0px 1px 2px rgba(0, 0, 0, 0.3));\n",
              "      fill: #FFFFFF;\n",
              "    }\n",
              "  </style>\n",
              "\n",
              "      <script>\n",
              "        const buttonEl =\n",
              "          document.querySelector('#df-f9bb76c5-b760-4925-9943-ba6015230d2f button.colab-df-convert');\n",
              "        buttonEl.style.display =\n",
              "          google.colab.kernel.accessAllowed ? 'block' : 'none';\n",
              "\n",
              "        async function convertToInteractive(key) {\n",
              "          const element = document.querySelector('#df-f9bb76c5-b760-4925-9943-ba6015230d2f');\n",
              "          const dataTable =\n",
              "            await google.colab.kernel.invokeFunction('convertToInteractive',\n",
              "                                                     [key], {});\n",
              "          if (!dataTable) return;\n",
              "\n",
              "          const docLinkHtml = 'Like what you see? Visit the ' +\n",
              "            '<a target=\"_blank\" href=https://colab.research.google.com/notebooks/data_table.ipynb>data table notebook</a>'\n",
              "            + ' to learn more about interactive tables.';\n",
              "          element.innerHTML = '';\n",
              "          dataTable['output_type'] = 'display_data';\n",
              "          await google.colab.output.renderOutput(dataTable, element);\n",
              "          const docLink = document.createElement('div');\n",
              "          docLink.innerHTML = docLinkHtml;\n",
              "          element.appendChild(docLink);\n",
              "        }\n",
              "      </script>\n",
              "    </div>\n",
              "  </div>\n",
              "  "
            ],
            "text/plain": [
              "  first  second\n",
              "0     a       2\n",
              "1     b      21\n",
              "2     c      19\n",
              "3     d      18"
            ]
          },
          "metadata": {},
          "execution_count": 5
        }
      ]
    },
    {
      "cell_type": "code",
      "source": [
        "data = [{'a': 1, 'b': 2},\n",
        "        {'a': 5, 'b': 10, 'c': 20}]\n",
        "  \n",
        "# With two column indices, values same\n",
        "# as dictionary keys\n",
        "df3 = pd.DataFrame(data, index =['first',\n",
        "                                 'second'],\n",
        "                   columns =['a', 'b','c'])\n",
        "df3"
      ],
      "metadata": {
        "colab": {
          "base_uri": "https://localhost:8080/"
        },
        "id": "tmmvKtpDqrXL",
        "outputId": "dd8498d0-b31a-44f7-8003-993fc0e8b8b9"
      },
      "execution_count": null,
      "outputs": [
        {
          "output_type": "execute_result",
          "data": {
            "text/html": [
              "\n",
              "  <div id=\"df-b10d4da5-4d59-4ed0-ae70-5ee14ffe1275\">\n",
              "    <div class=\"colab-df-container\">\n",
              "      <div>\n",
              "<style scoped>\n",
              "    .dataframe tbody tr th:only-of-type {\n",
              "        vertical-align: middle;\n",
              "    }\n",
              "\n",
              "    .dataframe tbody tr th {\n",
              "        vertical-align: top;\n",
              "    }\n",
              "\n",
              "    .dataframe thead th {\n",
              "        text-align: right;\n",
              "    }\n",
              "</style>\n",
              "<table border=\"1\" class=\"dataframe\">\n",
              "  <thead>\n",
              "    <tr style=\"text-align: right;\">\n",
              "      <th></th>\n",
              "      <th>a</th>\n",
              "      <th>b</th>\n",
              "      <th>c</th>\n",
              "    </tr>\n",
              "  </thead>\n",
              "  <tbody>\n",
              "    <tr>\n",
              "      <th>first</th>\n",
              "      <td>1</td>\n",
              "      <td>2</td>\n",
              "      <td>NaN</td>\n",
              "    </tr>\n",
              "    <tr>\n",
              "      <th>second</th>\n",
              "      <td>5</td>\n",
              "      <td>10</td>\n",
              "      <td>20.0</td>\n",
              "    </tr>\n",
              "  </tbody>\n",
              "</table>\n",
              "</div>\n",
              "      <button class=\"colab-df-convert\" onclick=\"convertToInteractive('df-b10d4da5-4d59-4ed0-ae70-5ee14ffe1275')\"\n",
              "              title=\"Convert this dataframe to an interactive table.\"\n",
              "              style=\"display:none;\">\n",
              "        \n",
              "  <svg xmlns=\"http://www.w3.org/2000/svg\" height=\"24px\"viewBox=\"0 0 24 24\"\n",
              "       width=\"24px\">\n",
              "    <path d=\"M0 0h24v24H0V0z\" fill=\"none\"/>\n",
              "    <path d=\"M18.56 5.44l.94 2.06.94-2.06 2.06-.94-2.06-.94-.94-2.06-.94 2.06-2.06.94zm-11 1L8.5 8.5l.94-2.06 2.06-.94-2.06-.94L8.5 2.5l-.94 2.06-2.06.94zm10 10l.94 2.06.94-2.06 2.06-.94-2.06-.94-.94-2.06-.94 2.06-2.06.94z\"/><path d=\"M17.41 7.96l-1.37-1.37c-.4-.4-.92-.59-1.43-.59-.52 0-1.04.2-1.43.59L10.3 9.45l-7.72 7.72c-.78.78-.78 2.05 0 2.83L4 21.41c.39.39.9.59 1.41.59.51 0 1.02-.2 1.41-.59l7.78-7.78 2.81-2.81c.8-.78.8-2.07 0-2.86zM5.41 20L4 18.59l7.72-7.72 1.47 1.35L5.41 20z\"/>\n",
              "  </svg>\n",
              "      </button>\n",
              "      \n",
              "  <style>\n",
              "    .colab-df-container {\n",
              "      display:flex;\n",
              "      flex-wrap:wrap;\n",
              "      gap: 12px;\n",
              "    }\n",
              "\n",
              "    .colab-df-convert {\n",
              "      background-color: #E8F0FE;\n",
              "      border: none;\n",
              "      border-radius: 50%;\n",
              "      cursor: pointer;\n",
              "      display: none;\n",
              "      fill: #1967D2;\n",
              "      height: 32px;\n",
              "      padding: 0 0 0 0;\n",
              "      width: 32px;\n",
              "    }\n",
              "\n",
              "    .colab-df-convert:hover {\n",
              "      background-color: #E2EBFA;\n",
              "      box-shadow: 0px 1px 2px rgba(60, 64, 67, 0.3), 0px 1px 3px 1px rgba(60, 64, 67, 0.15);\n",
              "      fill: #174EA6;\n",
              "    }\n",
              "\n",
              "    [theme=dark] .colab-df-convert {\n",
              "      background-color: #3B4455;\n",
              "      fill: #D2E3FC;\n",
              "    }\n",
              "\n",
              "    [theme=dark] .colab-df-convert:hover {\n",
              "      background-color: #434B5C;\n",
              "      box-shadow: 0px 1px 3px 1px rgba(0, 0, 0, 0.15);\n",
              "      filter: drop-shadow(0px 1px 2px rgba(0, 0, 0, 0.3));\n",
              "      fill: #FFFFFF;\n",
              "    }\n",
              "  </style>\n",
              "\n",
              "      <script>\n",
              "        const buttonEl =\n",
              "          document.querySelector('#df-b10d4da5-4d59-4ed0-ae70-5ee14ffe1275 button.colab-df-convert');\n",
              "        buttonEl.style.display =\n",
              "          google.colab.kernel.accessAllowed ? 'block' : 'none';\n",
              "\n",
              "        async function convertToInteractive(key) {\n",
              "          const element = document.querySelector('#df-b10d4da5-4d59-4ed0-ae70-5ee14ffe1275');\n",
              "          const dataTable =\n",
              "            await google.colab.kernel.invokeFunction('convertToInteractive',\n",
              "                                                     [key], {});\n",
              "          if (!dataTable) return;\n",
              "\n",
              "          const docLinkHtml = 'Like what you see? Visit the ' +\n",
              "            '<a target=\"_blank\" href=https://colab.research.google.com/notebooks/data_table.ipynb>data table notebook</a>'\n",
              "            + ' to learn more about interactive tables.';\n",
              "          element.innerHTML = '';\n",
              "          dataTable['output_type'] = 'display_data';\n",
              "          await google.colab.output.renderOutput(dataTable, element);\n",
              "          const docLink = document.createElement('div');\n",
              "          docLink.innerHTML = docLinkHtml;\n",
              "          element.appendChild(docLink);\n",
              "        }\n",
              "      </script>\n",
              "    </div>\n",
              "  </div>\n",
              "  "
            ],
            "text/plain": [
              "        a   b     c\n",
              "first   1   2   NaN\n",
              "second  5  10  20.0"
            ]
          },
          "metadata": {},
          "execution_count": 8
        }
      ]
    },
    {
      "cell_type": "code",
      "source": [
        "print(df1.head())\n",
        "print()\n",
        "print(df1.groupby('first')['second'].value_counts())\n",
        "print(df1.groupby('first')['second'].describe())\n",
        "print()\n",
        "print(df1.loc[2:6 , 'second'])\n",
        "print(df1.iloc[2:6 , 1:2])\n",
        "print()\n",
        "print(df1[(df1['first'] == 'b')])\n",
        "print(df1[(df1['first'] == 'b') & (df1['second']<20) | (df1['first'] == 'a')])\n",
        "print()\n",
        "print(df3['c'].isnull())\n",
        "print()\n",
        "print(df1.sort_values(by='second'))\n",
        "print()"
      ],
      "metadata": {
        "id": "PkWdy9dcsLL3",
        "colab": {
          "base_uri": "https://localhost:8080/"
        },
        "outputId": "2a201811-82b0-4702-8c78-7ee88ddc3934"
      },
      "execution_count": null,
      "outputs": [
        {
          "output_type": "stream",
          "name": "stdout",
          "text": [
            "  first  second\n",
            "0     a      10\n",
            "1     b      15\n",
            "2     c      14\n",
            "3     d      17\n",
            "4     e     314\n",
            "\n",
            "first  second\n",
            "a      10        1\n",
            "b      41        2\n",
            "       15        1\n",
            "c      14        1\n",
            "       22        1\n",
            "d      17        1\n",
            "e      14        1\n",
            "       314       1\n",
            "Name: second, dtype: int64\n",
            "       count        mean         std   min   25%    50%    75%    max\n",
            "first                                                                \n",
            "a        1.0   10.000000         NaN  10.0  10.0   10.0   10.0   10.0\n",
            "b        3.0   32.333333   15.011107  15.0  28.0   41.0   41.0   41.0\n",
            "c        2.0   18.000000    5.656854  14.0  16.0   18.0   20.0   22.0\n",
            "d        1.0   17.000000         NaN  17.0  17.0   17.0   17.0   17.0\n",
            "e        2.0  164.000000  212.132034  14.0  89.0  164.0  239.0  314.0\n",
            "\n",
            "2     14\n",
            "3     17\n",
            "4    314\n",
            "5     41\n",
            "6     22\n",
            "Name: second, dtype: int64\n",
            "   second\n",
            "2      14\n",
            "3      17\n",
            "4     314\n",
            "5      41\n",
            "\n",
            "  first  second\n",
            "1     b      15\n",
            "5     b      41\n",
            "7     b      41\n",
            "  first  second\n",
            "0     a      10\n",
            "1     b      15\n",
            "\n",
            "first      True\n",
            "second    False\n",
            "Name: c, dtype: bool\n",
            "  first  second\n",
            "0     a      10\n",
            "2     c      14\n",
            "8     e      14\n",
            "1     b      15\n",
            "3     d      17\n",
            "6     c      22\n",
            "5     b      41\n",
            "7     b      41\n",
            "4     e     314\n"
          ]
        }
      ]
    },
    {
      "cell_type": "code",
      "source": [
        ""
      ],
      "metadata": {
        "id": "qKWiYN7kvfb0"
      },
      "execution_count": null,
      "outputs": []
    },
    {
      "cell_type": "markdown",
      "source": [
        "#mathplotlib"
      ],
      "metadata": {
        "id": "v0DoT5yo6eJ0"
      }
    },
    {
      "cell_type": "markdown",
      "source": [
        "створити набір даних лінійної функції з урахуванням помилок вимірювань, побудувати графік функції та згенерованих даних, обчислити похибку з використанням метрик MAE, MSE). Записати отримані результати у csv файл (формат: X,Y, Y_hat, mAE, mSE)\n"
      ],
      "metadata": {
        "id": "xZkApkhk6mO-"
      }
    },
    {
      "cell_type": "code",
      "source": [
        "import matplotlib.pyplot as plt\n",
        "import pandas as pd\n",
        "import numpy as np\n",
        "from sklearn.metrics import mean_absolute_error \n",
        "from sklearn.metrics import mean_squared_error\n",
        "import csv\n",
        "%matplotlib inline\n",
        "\n",
        "# np.random.seed(49901)\n",
        "\n",
        "def f(x):\n",
        "  return x**2\n",
        "\n",
        "def fErr(x):\n",
        "  e = np.random.random()\n",
        "  if np.random.random() > 0.5:\n",
        "    return f(x) + e\n",
        "  else: return  (f(x) - e)\n",
        "  \n",
        "\n",
        "# X = np.array([np.random.randint(0, 5) for i in range(10)])\n",
        "X = np.array([-5, -4, -3, -2, -1, 0, 1, 2, 3, 4, 5])\n",
        "\n",
        "print('x: ', X)\n",
        "\n",
        "Y = np.array([f(x) for x in X])\n",
        "print('y: ', Y)\n",
        "\n",
        "Y_hat = np.array([fErr(x) for x in X])\n",
        "print('Y_hat: ', Y_hat)\n",
        "\n",
        "\n",
        "\n",
        "fig = plt.figure(figsize=(10,7))\n",
        "axes = fig.add_axes([0,0,1,1])\n",
        "axes.plot(X, Y)\n",
        "axes.plot(X, Y_hat, marker = '*' ,linestyle = '--')\n",
        "plt.show()\n",
        "\n",
        "print('MAE: ', mean_absolute_error(Y, Y_hat))\n",
        "print('MSE: ', mean_squared_error(Y, Y_hat))\n",
        "\n",
        "\n",
        "filename  = 'data.csv'\n",
        "\n",
        "with open(filename, 'w', newline=\"\") as file:\n",
        "  writer = csv.writer(file)\n",
        "  writer.writerow([\"Name\", \"Value\"])\n",
        "  writer.writerows([\n",
        "                    [\"X\", X],\n",
        "                    [\"y\", Y],\n",
        "                    [\"Y_hat\", Y_hat],\n",
        "                    [\"MAE\",  mean_absolute_error(Y, Y_hat) ],\n",
        "                    [\"MSE\",   mean_squared_error(Y, Y_hat) ]\n",
        "\n",
        "  ])\n",
        "\n",
        "\n",
        "\n",
        "\n"
      ],
      "metadata": {
        "id": "jcr2-opWCrth",
        "colab": {
          "base_uri": "https://localhost:8080/",
          "height": 662
        },
        "outputId": "572ddc4c-dcb4-4521-d1bf-bfef1066120e"
      },
      "execution_count": 27,
      "outputs": [
        {
          "output_type": "stream",
          "name": "stdout",
          "text": [
            "x:  [-5 -4 -3 -2 -1  0  1  2  3  4  5]\n",
            "y:  [25 16  9  4  1  0  1  4  9 16 25]\n",
            "Y_hat:  [24.41385776 16.78028914  9.19327689  3.77988407  1.6746382   0.59725485\n",
            "  0.38721644  4.61236396  9.54227208 15.54759788 24.94301503]\n"
          ]
        },
        {
          "output_type": "display_data",
          "data": {
            "text/plain": [
              "<Figure size 720x504 with 1 Axes>"
            ],
            "image/png": "[encoded data removed]"
          },
          "metadata": {
            "needs_background": "light"
          }
        },
        {
          "output_type": "stream",
          "name": "stdout",
          "text": [
            "MAE:  0.48441126848005245\n",
            "MSE:  0.2820489275364943\n"
          ]
        }
      ]
    },
    {
      "cell_type": "code",
      "source": [
        ""
      ],
      "metadata": {
        "id": "c-SHaGMS-tzm"
      },
      "execution_count": 9,
      "outputs": []
    },
    {
      "cell_type": "markdown",
      "source": [
        ""
      ],
      "metadata": {
        "id": "Mmsht-l0YvI3"
      }
    },
    {
      "cell_type": "code",
      "source": [
        ""
      ],
      "metadata": {
        "id": "DRhB6RWt-n9h"
      },
      "execution_count": null,
      "outputs": []
    }
  ]
}